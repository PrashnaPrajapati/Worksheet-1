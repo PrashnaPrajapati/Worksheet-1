{
  "nbformat": 4,
  "nbformat_minor": 0,
  "metadata": {
    "colab": {
      "provenance": []
    },
    "kernelspec": {
      "name": "python3",
      "display_name": "Python 3"
    },
    "language_info": {
      "name": "python"
    }
  },
  "cells": [
    {
      "cell_type": "markdown",
      "source": [
        "Prashna Prajapati"
      ],
      "metadata": {
        "id": "pcyLOY2nqWsL"
      }
    },
    {
      "cell_type": "markdown",
      "source": [
        "Problem-1:\n",
        "\n",
        "Array Creations:\n",
        "\n",
        "1) Initialize an empty array with size 2X2."
      ],
      "metadata": {
        "id": "tcE-aI0gZsKX"
      }
    },
    {
      "cell_type": "code",
      "source": [
        "import numpy as np\n",
        "\n",
        "# Create an empty array 2x2\n",
        "empty_array = np.empty((2, 2))\n",
        "print(empty_array)\n"
      ],
      "metadata": {
        "colab": {
          "base_uri": "https://localhost:8080/"
        },
        "id": "twE4SfNhaAwk",
        "outputId": "2b971f72-d7e0-41f9-9341-9bca2b49fc7d"
      },
      "execution_count": null,
      "outputs": [
        {
          "output_type": "stream",
          "name": "stdout",
          "text": [
            "[[ 1.00000000e+00 -1.11022302e-16]\n",
            " [ 1.11022302e-16  1.00000000e+00]]\n"
          ]
        }
      ]
    },
    {
      "cell_type": "markdown",
      "source": [
        " 2. Initialize an all one array with size 4X2."
      ],
      "metadata": {
        "id": "xzQpwPBkhZFq"
      }
    },
    {
      "cell_type": "code",
      "source": [
        "import numpy as np\n",
        "\n",
        "# Create a 4x2 array filled with ones\n",
        "ones_array = np.ones((4, 2))\n",
        "print(ones_array)"
      ],
      "metadata": {
        "colab": {
          "base_uri": "https://localhost:8080/"
        },
        "id": "2S31qA5RhkPc",
        "outputId": "0d8344a4-1400-4b1e-a114-687d620a60a1"
      },
      "execution_count": null,
      "outputs": [
        {
          "output_type": "stream",
          "name": "stdout",
          "text": [
            "[[1. 1.]\n",
            " [1. 1.]\n",
            " [1. 1.]\n",
            " [1. 1.]]\n"
          ]
        }
      ]
    },
    {
      "cell_type": "markdown",
      "source": [
        " 3. Return a new array of given shape and type, filled with fill value.{Hint: np.full}"
      ],
      "metadata": {
        "id": "SoRgvLTdil6e"
      }
    },
    {
      "cell_type": "code",
      "source": [
        "import numpy as np\n",
        "\n",
        "# Create an array with shape (3, 3), filled with the value 7\n",
        "filled_array = np.full((3, 3), 7)\n",
        "print(filled_array)"
      ],
      "metadata": {
        "colab": {
          "base_uri": "https://localhost:8080/"
        },
        "id": "iuXVoqe1hoSI",
        "outputId": "b6dcd018-13ca-4ddd-8f76-98051a885d6f"
      },
      "execution_count": null,
      "outputs": [
        {
          "output_type": "stream",
          "name": "stdout",
          "text": [
            "[[7 7 7]\n",
            " [7 7 7]\n",
            " [7 7 7]]\n"
          ]
        }
      ]
    },
    {
      "cell_type": "markdown",
      "source": [
        " 4. Return a new array of zeros with same shape and type as a given array.{Hint: np.zeros like}"
      ],
      "metadata": {
        "id": "-fv-QAa1jcFI"
      }
    },
    {
      "cell_type": "code",
      "source": [
        "import numpy as np\n",
        "\n",
        "# Given array\n",
        "given_array = np.array([[1, 2], [3, 4]])\n",
        "\n",
        "# Create a new array of zeros with the same shape and type as given_array\n",
        "zeros_like_array = np.zeros_like(given_array)\n",
        "print(zeros_like_array)"
      ],
      "metadata": {
        "colab": {
          "base_uri": "https://localhost:8080/"
        },
        "id": "qrdwI02vjXp-",
        "outputId": "b3974e4e-dbc2-47b1-f581-3be140b24f36"
      },
      "execution_count": null,
      "outputs": [
        {
          "output_type": "stream",
          "name": "stdout",
          "text": [
            "[[0 0]\n",
            " [0 0]]\n"
          ]
        }
      ]
    },
    {
      "cell_type": "markdown",
      "source": [
        " 5. Return a new array of ones with same shape and type as a given array.{Hint: np.ones like}"
      ],
      "metadata": {
        "id": "Ul8lk6QtjwbS"
      }
    },
    {
      "cell_type": "code",
      "source": [
        "import numpy as np\n",
        "\n",
        "# Given array\n",
        "given_array = np.array([[4, 5, 6], [7, 8, 9]])\n",
        "\n",
        "# Create a new array of ones with the same shape and type as given_array\n",
        "ones_like_array = np.ones_like(given_array)\n",
        "print(ones_like_array)"
      ],
      "metadata": {
        "colab": {
          "base_uri": "https://localhost:8080/"
        },
        "id": "b10eYLFQjini",
        "outputId": "04d48151-39d3-44d4-b4b1-b3c7c61adcf5"
      },
      "execution_count": null,
      "outputs": [
        {
          "output_type": "stream",
          "name": "stdout",
          "text": [
            "[[1 1 1]\n",
            " [1 1 1]]\n"
          ]
        }
      ]
    },
    {
      "cell_type": "markdown",
      "source": [
        " 6. For an existing list new_list = [1,2,3,4] convert to an numpy array.{Hint: np.array()}"
      ],
      "metadata": {
        "id": "Cm-VfwANkBe-"
      }
    },
    {
      "cell_type": "code",
      "source": [
        "import numpy as np\n",
        "\n",
        "# Existing list\n",
        "new_list = [1, 2, 3, 4]\n",
        "\n",
        "# Convert the list to a NumPy array\n",
        "array_from_list = np.array(new_list)\n",
        "\n",
        "print(array_from_list)"
      ],
      "metadata": {
        "colab": {
          "base_uri": "https://localhost:8080/"
        },
        "id": "C4OpIkMRj37L",
        "outputId": "6646ffc2-8f9e-4155-f942-4d81444db137"
      },
      "execution_count": null,
      "outputs": [
        {
          "output_type": "stream",
          "name": "stdout",
          "text": [
            "[1 2 3 4]\n"
          ]
        }
      ]
    },
    {
      "cell_type": "markdown",
      "source": [
        "Problem- 2: Array Manipulation: Numerical Ranges and Array indexing:\n",
        "\n",
        " 1. Create an array with values ranging from 10 to 49. {Hint:np.arrange()}."
      ],
      "metadata": {
        "id": "GRy2blXskCom"
      }
    },
    {
      "cell_type": "code",
      "source": [
        "import numpy as np\n",
        "\n",
        "# Create an array with values ranging from 10 to 49\n",
        "array_10_to_49 = np.arange(10, 50)\n",
        "print(array_10_to_49)"
      ],
      "metadata": {
        "colab": {
          "base_uri": "https://localhost:8080/"
        },
        "id": "CxBbICFskcJm",
        "outputId": "cfd70a6f-cb14-471a-de60-aca2daf80640"
      },
      "execution_count": null,
      "outputs": [
        {
          "output_type": "stream",
          "name": "stdout",
          "text": [
            "[10 11 12 13 14 15 16 17 18 19 20 21 22 23 24 25 26 27 28 29 30 31 32 33\n",
            " 34 35 36 37 38 39 40 41 42 43 44 45 46 47 48 49]\n"
          ]
        }
      ]
    },
    {
      "cell_type": "markdown",
      "source": [
        " 2. Create a 3X3 matrix with values ranging from 0 to 8.\n",
        " {Hint:look for np.reshape()}"
      ],
      "metadata": {
        "id": "U1ptQe7aktvk"
      }
    },
    {
      "cell_type": "code",
      "source": [
        "import numpy as np\n",
        "\n",
        "#Create a 3X3 matrix with values ranging from 0 to 8\n",
        "matrix_3x3 = np.arange(9).reshape(3, 3)\n",
        "\n",
        "print(matrix_3x3)"
      ],
      "metadata": {
        "colab": {
          "base_uri": "https://localhost:8080/"
        },
        "id": "7Ov3x3nEkrwD",
        "outputId": "c29629fb-3ace-4ef8-f7be-18e769423fff"
      },
      "execution_count": null,
      "outputs": [
        {
          "output_type": "stream",
          "name": "stdout",
          "text": [
            "[[0 1 2]\n",
            " [3 4 5]\n",
            " [6 7 8]]\n"
          ]
        }
      ]
    },
    {
      "cell_type": "markdown",
      "source": [
        "3. Create a 3X3 identity matrix.{Hint:np.eye()}"
      ],
      "metadata": {
        "id": "_gTS3M8Rk36k"
      }
    },
    {
      "cell_type": "code",
      "source": [
        "import numpy as np\n",
        "\n",
        "# Create a 3x3 identity matrix\n",
        "identity_matrix = np.eye(3)\n",
        "\n",
        "print(identity_matrix)"
      ],
      "metadata": {
        "colab": {
          "base_uri": "https://localhost:8080/"
        },
        "id": "DAHppEsek1Dq",
        "outputId": "436619ec-7bd3-4548-d2af-159ef6bf9790"
      },
      "execution_count": null,
      "outputs": [
        {
          "output_type": "stream",
          "name": "stdout",
          "text": [
            "[[1. 0. 0.]\n",
            " [0. 1. 0.]\n",
            " [0. 0. 1.]]\n"
          ]
        }
      ]
    },
    {
      "cell_type": "markdown",
      "source": [
        " 4. Create a random array of size 30 and find the mean of the array.\n",
        " {Hint:check for np.random.random() and array.mean() function}"
      ],
      "metadata": {
        "id": "w2hVBwpflakW"
      }
    },
    {
      "cell_type": "code",
      "source": [
        "import numpy as np\n",
        "\n",
        "# Create a random array of size 30\n",
        "random_array = np.random.random(30)\n",
        "\n",
        "# Calculate the mean of the array\n",
        "mean_value = random_array.mean()\n",
        "\n",
        "print(\"Random Array:\", random_array)\n",
        "print(\"Mean of the Array:\", mean_value)"
      ],
      "metadata": {
        "colab": {
          "base_uri": "https://localhost:8080/"
        },
        "id": "9-lKjd5Dk7Lc",
        "outputId": "9d1bbc50-fcbc-45c3-8409-1c926662aef0"
      },
      "execution_count": null,
      "outputs": [
        {
          "output_type": "stream",
          "name": "stdout",
          "text": [
            "Random Array: [0.05303045 0.60716888 0.73889803 0.02911853 0.00860651 0.71794431\n",
            " 0.46452535 0.48439448 0.55740939 0.02274102 0.52381138 0.62453986\n",
            " 0.38089192 0.48148786 0.75506708 0.07401507 0.84250744 0.65383067\n",
            " 0.79586933 0.96574731 0.89178794 0.52570154 0.95138101 0.43115533\n",
            " 0.70188834 0.5556834  0.88894284 0.73491901 0.64957839 0.14736337]\n",
            "Mean of the Array: 0.5420002001289681\n"
          ]
        }
      ]
    },
    {
      "cell_type": "markdown",
      "source": [
        " 5. Create a 10X10 array with random values and find the minimum and maximum values."
      ],
      "metadata": {
        "id": "3yacmB4xllzs"
      }
    },
    {
      "cell_type": "code",
      "source": [
        "import numpy as np\n",
        "\n",
        "# Create a 10x10 array with random values between 0 and 1\n",
        "random_array = np.random.random((10, 10))\n",
        "\n",
        "# Find the minimum and maximum values\n",
        "min_value = random_array.min()\n",
        "max_value = random_array.max()\n",
        "\n",
        "print(\"Random 10x10 Array:\")\n",
        "print(random_array)\n",
        "print(\"\\nMinimum Value:\", min_value)\n",
        "print(\"Maximum Value:\", max_value)\n"
      ],
      "metadata": {
        "colab": {
          "base_uri": "https://localhost:8080/"
        },
        "id": "GchT4IZNldk9",
        "outputId": "55522825-1439-4259-d472-101de2230dc1"
      },
      "execution_count": null,
      "outputs": [
        {
          "output_type": "stream",
          "name": "stdout",
          "text": [
            "Random 10x10 Array:\n",
            "[[0.82159494 0.98054272 0.93642867 0.55035874 0.55993028 0.9979233\n",
            "  0.00773004 0.37024922 0.22900749 0.38492026]\n",
            " [0.75135218 0.5814187  0.79537579 0.26609524 0.59639767 0.09455982\n",
            "  0.80381327 0.12926728 0.84348652 0.50968787]\n",
            " [0.98896305 0.58547391 0.94868306 0.92890211 0.23116665 0.52159553\n",
            "  0.43418094 0.50762999 0.5484875  0.45433735]\n",
            " [0.82842545 0.11460579 0.38854443 0.44274977 0.36647115 0.30329657\n",
            "  0.67951442 0.42273049 0.10559289 0.91820717]\n",
            " [0.78181798 0.25560676 0.89263101 0.27464058 0.68931553 0.65794166\n",
            "  0.89464704 0.77555847 0.87968767 0.5211395 ]\n",
            " [0.20314473 0.84686057 0.94446256 0.70982051 0.70685235 0.71741894\n",
            "  0.60603686 0.53125214 0.21867216 0.76844256]\n",
            " [0.47121349 0.54840327 0.41648189 0.96335644 0.51702332 0.57865904\n",
            "  0.58289727 0.8514991  0.37568568 0.54685607]\n",
            " [0.26159947 0.92330372 0.98109489 0.81066826 0.31668028 0.90701526\n",
            "  0.43655199 0.78939445 0.79319553 0.559313  ]\n",
            " [0.14323539 0.98837485 0.6479608  0.08167557 0.9718591  0.60233754\n",
            "  0.09342478 0.27472841 0.32778475 0.37320494]\n",
            " [0.08591164 0.92796789 0.81868272 0.72383657 0.70410975 0.98255633\n",
            "  0.00125864 0.38903313 0.03371216 0.66540878]]\n",
            "\n",
            "Minimum Value: 0.0012586428289145246\n",
            "Maximum Value: 0.9979232970584578\n"
          ]
        }
      ]
    },
    {
      "cell_type": "markdown",
      "source": [
        " 6. Create a zero array of size 10 and replace 5th element with 1."
      ],
      "metadata": {
        "id": "CIK6ZM03lzqU"
      }
    },
    {
      "cell_type": "code",
      "source": [
        "import numpy as np\n",
        "\n",
        "# Create a zero array of size 10\n",
        "zero_array = np.zeros(10)\n",
        "\n",
        "# Replace the 5th element (index 4) with 1\n",
        "zero_array[4] = 1\n",
        "\n",
        "print(zero_array)"
      ],
      "metadata": {
        "colab": {
          "base_uri": "https://localhost:8080/"
        },
        "id": "-vkQvzSLlsGE",
        "outputId": "8f7a2574-f335-4928-a104-b25faffe7d1b"
      },
      "execution_count": null,
      "outputs": [
        {
          "output_type": "stream",
          "name": "stdout",
          "text": [
            "[0. 0. 0. 0. 1. 0. 0. 0. 0. 0.]\n"
          ]
        }
      ]
    },
    {
      "cell_type": "markdown",
      "source": [
        "7. Reverse an array arr = [1,2,0,0,4,0]."
      ],
      "metadata": {
        "id": "KQ4Icvc8l6m0"
      }
    },
    {
      "cell_type": "code",
      "source": [
        "import numpy as np\n",
        "\n",
        "# Given array\n",
        "arr = np.array([1, 2, 0, 0, 4, 0])\n",
        "\n",
        "# Reverse the array using slicing\n",
        "reversed_arr = arr[::-1]\n",
        "\n",
        "print(reversed_arr)"
      ],
      "metadata": {
        "colab": {
          "base_uri": "https://localhost:8080/"
        },
        "id": "gJ6qW3X0l4in",
        "outputId": "9f7aa1c4-76b7-4afd-d2bf-7c013a86fd28"
      },
      "execution_count": null,
      "outputs": [
        {
          "output_type": "stream",
          "name": "stdout",
          "text": [
            "[0 4 0 0 2 1]\n"
          ]
        }
      ]
    },
    {
      "cell_type": "markdown",
      "source": [
        "8. Create a 2d array with 1 on border and 0 inside."
      ],
      "metadata": {
        "id": "bN1627Camcu7"
      }
    },
    {
      "cell_type": "code",
      "source": [
        "import numpy as np\n",
        "\n",
        "# Define the size of the array (e.g., 5x5)\n",
        "size = 5\n",
        "\n",
        "# Create a 2D array filled with zeros\n",
        "array = np.zeros((size, size), dtype=int)\n",
        "\n",
        "# Set the border elements to 1\n",
        "array[0, :] = 1  # Set top row to 1\n",
        "array[-1, :] = 1  # Set bottom row to 1\n",
        "array[:, 0] = 1  # Set left column to 1\n",
        "array[:, -1] = 1  # Set right column to 1\n",
        "\n",
        "print(array)"
      ],
      "metadata": {
        "colab": {
          "base_uri": "https://localhost:8080/"
        },
        "id": "HMQxnll7mBTp",
        "outputId": "1a87b6af-7e9b-4aa5-a00d-1095699c66ba"
      },
      "execution_count": null,
      "outputs": [
        {
          "output_type": "stream",
          "name": "stdout",
          "text": [
            "[[1 1 1 1 1]\n",
            " [1 0 0 0 1]\n",
            " [1 0 0 0 1]\n",
            " [1 0 0 0 1]\n",
            " [1 1 1 1 1]]\n"
          ]
        }
      ]
    },
    {
      "cell_type": "markdown",
      "source": [
        "9. Create a 8X8 matrix and fill it with a checkerboard pattern."
      ],
      "metadata": {
        "id": "vicJf-MYmkLe"
      }
    },
    {
      "cell_type": "code",
      "source": [
        "import numpy as np\n",
        "\n",
        "# Create an 8x8 matrix filled with zeros\n",
        "checkerboard = np.zeros((8, 8), dtype=int)\n",
        "\n",
        "# Fill the checkerboard pattern with 1s\n",
        "checkerboard[1::2, ::2] = 1  # Set 1s in the alternating columns for even rows\n",
        "checkerboard[::2, 1::2] = 1  # Set 1s in the alternating columns for odd rows\n",
        "\n",
        "print(checkerboard)"
      ],
      "metadata": {
        "colab": {
          "base_uri": "https://localhost:8080/"
        },
        "id": "pbcWb4h1mfZi",
        "outputId": "6109c4d1-2904-4992-a0d3-8364222f3799"
      },
      "execution_count": null,
      "outputs": [
        {
          "output_type": "stream",
          "name": "stdout",
          "text": [
            "[[0 1 0 1 0 1 0 1]\n",
            " [1 0 1 0 1 0 1 0]\n",
            " [0 1 0 1 0 1 0 1]\n",
            " [1 0 1 0 1 0 1 0]\n",
            " [0 1 0 1 0 1 0 1]\n",
            " [1 0 1 0 1 0 1 0]\n",
            " [0 1 0 1 0 1 0 1]\n",
            " [1 0 1 0 1 0 1 0]]\n"
          ]
        }
      ]
    },
    {
      "cell_type": "markdown",
      "source": [
        " Problem- 3: Array Operations:\n",
        "\n",
        " For the following arrays:\n",
        " x = np.array([[1,2],[3,5]]) and y = np.array([[5,6],[7,8]]);\n",
        " v = np.array([9,10]) and w = np.array([11,12]);\n",
        "\n",
        " 1. Add the two array."
      ],
      "metadata": {
        "id": "exBpucWdmya6"
      }
    },
    {
      "cell_type": "code",
      "source": [
        "import numpy as np\n",
        "\n",
        "# Define the arrays\n",
        "x = np.array([[1, 2], [3, 5]])\n",
        "y = np.array([[5, 6], [7, 8]])\n",
        "\n",
        "# Add the two arrays\n",
        "sum_array = np.add(x, y)\n",
        "\n",
        "print(sum_array)"
      ],
      "metadata": {
        "colab": {
          "base_uri": "https://localhost:8080/"
        },
        "id": "Yl1dnzHfmqZ9",
        "outputId": "442e3e03-6629-4e50-97e8-47c54c821815"
      },
      "execution_count": null,
      "outputs": [
        {
          "output_type": "stream",
          "name": "stdout",
          "text": [
            "[[ 6  8]\n",
            " [10 13]]\n"
          ]
        }
      ]
    },
    {
      "cell_type": "markdown",
      "source": [
        "2. Subtract the two array."
      ],
      "metadata": {
        "id": "Lth_-tGSm6HP"
      }
    },
    {
      "cell_type": "code",
      "source": [
        "import numpy as np\n",
        "\n",
        "# Define the arrays\n",
        "x = np.array([[1, 2], [3, 5]])\n",
        "y = np.array([[5, 6], [7, 8]])\n",
        "\n",
        "# Subtract the two arrays\n",
        "diff_array = np.subtract(x, y)\n",
        "\n",
        "print(diff_array)"
      ],
      "metadata": {
        "colab": {
          "base_uri": "https://localhost:8080/"
        },
        "id": "KcsZ3YLjm2MV",
        "outputId": "b878e86a-6a02-467b-e3a3-24e08b8b21d0"
      },
      "execution_count": null,
      "outputs": [
        {
          "output_type": "stream",
          "name": "stdout",
          "text": [
            "[[-4 -4]\n",
            " [-4 -3]]\n"
          ]
        }
      ]
    },
    {
      "cell_type": "markdown",
      "source": [
        " 3. Multiply the array with any integers of your choice."
      ],
      "metadata": {
        "id": "wCvYKZyPnH-D"
      }
    },
    {
      "cell_type": "code",
      "source": [
        "import numpy as np\n",
        "\n",
        "# Define the arrays\n",
        "x = np.array([[1, 2], [3, 5]])\n",
        "y = np.array([[5, 6], [7, 8]])\n",
        "\n",
        "#Multiply the array\n",
        "multiplied_array_x = np.multiply(x, 2)\n",
        "multiplied_array_y = np.multiply(y, 4)\n",
        "\n",
        "\n",
        "print(multiplied_array_x)\n",
        "print(multiplied_array_y)"
      ],
      "metadata": {
        "colab": {
          "base_uri": "https://localhost:8080/"
        },
        "id": "TifN0VWEm6z5",
        "outputId": "0a18d2dd-598d-47d5-ba37-d95f4104009b"
      },
      "execution_count": null,
      "outputs": [
        {
          "output_type": "stream",
          "name": "stdout",
          "text": [
            "[[ 2  4]\n",
            " [ 6 10]]\n",
            "[[20 24]\n",
            " [28 32]]\n"
          ]
        }
      ]
    },
    {
      "cell_type": "markdown",
      "source": [
        " 4. Find the square of each element of the array."
      ],
      "metadata": {
        "id": "VMKtO_DCoiI4"
      }
    },
    {
      "cell_type": "code",
      "source": [
        "import numpy as np\n",
        "\n",
        "# Define the arrays\n",
        "x = np.array([[1, 2], [3, 5]])\n",
        "y = np.array([[5, 6], [7, 8]])\n",
        "\n",
        "#square of each element of the array.\n",
        "squared_array_x = np.square(x)\n",
        "squared_array_y = np.square(y)\n",
        "\n",
        "print(squared_array_x)\n",
        "print(squared_array_y)\n"
      ],
      "metadata": {
        "colab": {
          "base_uri": "https://localhost:8080/"
        },
        "id": "_UrXgI2inxaX",
        "outputId": "ed262042-5ef0-4069-e1ce-d5a7ae2fdf83"
      },
      "execution_count": null,
      "outputs": [
        {
          "output_type": "stream",
          "name": "stdout",
          "text": [
            "[[ 1  4]\n",
            " [ 9 25]]\n",
            "[[25 36]\n",
            " [49 64]]\n"
          ]
        }
      ]
    },
    {
      "cell_type": "markdown",
      "source": [
        "5. Find the dot product between: v(and)w ; x(and)v ; x(and)y."
      ],
      "metadata": {
        "id": "gt_JCSksouD5"
      }
    },
    {
      "cell_type": "code",
      "source": [
        "import numpy as np\n",
        "\n",
        "# Define the arrays\n",
        "x = np.array([[1, 2], [3, 5]])  # 2x2 array\n",
        "y = np.array([[5, 6], [7, 8]])  # 2x2 array\n",
        "v = np.array([9, 10])           # 1D array\n",
        "w = np.array([11, 12])          # 1D array\n",
        "\n",
        "# Dot product of v and w (1D arrays)\n",
        "dot_v_w = np.dot(v, w)\n",
        "\n",
        "# Dot product of x and v (2D array x and 1D array v)\n",
        "dot_x_v = np.dot(x, v)\n",
        "\n",
        "# Dot product of x and y (2D array x and 2D array y)\n",
        "dot_x_y = np.dot(x, y)\n",
        "\n",
        "# Print the results\n",
        "print(\"Dot product of v and w:\", dot_v_w)\n",
        "print(\"Dot product of x and v:\", dot_x_v)\n",
        "print(\"Dot product of x and y:\", dot_x_y)\n"
      ],
      "metadata": {
        "colab": {
          "base_uri": "https://localhost:8080/"
        },
        "id": "ZlNt_0_WopX4",
        "outputId": "72cd0c54-c2d2-454c-af8b-106001c02ed7"
      },
      "execution_count": null,
      "outputs": [
        {
          "output_type": "stream",
          "name": "stdout",
          "text": [
            "Dot product of v and w: 219\n",
            "Dot product of x and v: [29 77]\n",
            "Dot product of x and y: [[19 22]\n",
            " [50 58]]\n"
          ]
        }
      ]
    },
    {
      "cell_type": "markdown",
      "source": [
        "6. Concatenate x(and)y along row and Concatenate v(and)w along column.\n",
        " {Hint:try np.concatenate() or np.vstack() functions."
      ],
      "metadata": {
        "id": "q1xQ-dMso4GX"
      }
    },
    {
      "cell_type": "code",
      "source": [
        "import numpy as np\n",
        "\n",
        "# Define the arrays\n",
        "x = np.array([[1, 2], [3, 5]])  # 2x2 array\n",
        "y = np.array([[5, 6], [7, 8]])  # 2x2 array\n",
        "v = np.array([9, 10])           # 1D array\n",
        "w = np.array([11, 12])          # 1D array\n",
        "\n",
        "# Concatenate x and y along rows (axis=0)\n",
        "concat_x_y = np.concatenate((x, y), axis=0)  # Or you can use np.vstack((x, y))\n",
        "\n",
        "# Concatenate v and w along columns (axis=1)\n",
        "# Reshape v and w from 1D to 2D before concatenating\n",
        "v_reshaped = v.reshape(-1, 1)  # Convert v to a 2D column vector\n",
        "w_reshaped = w.reshape(-1, 1)  # Convert w to a 2D column vector\n",
        "concat_v_w = np.concatenate((v_reshaped, w_reshaped), axis=1)  # Or use np.hstack((v_reshaped, w_reshaped))\n",
        "\n",
        "# Print the results\n",
        "print(\"Concatenated x and y along rows:\")\n",
        "print(concat_x_y)\n",
        "\n",
        "print(\"\\nConcatenated v and w along columns:\")\n",
        "print(concat_v_w)"
      ],
      "metadata": {
        "colab": {
          "base_uri": "https://localhost:8080/"
        },
        "id": "O-IqK6eoo0B5",
        "outputId": "9d9dd069-94d6-4772-ff56-dda32aea75ae"
      },
      "execution_count": null,
      "outputs": [
        {
          "output_type": "stream",
          "name": "stdout",
          "text": [
            "Concatenated x and y along rows:\n",
            "[[1 2]\n",
            " [3 5]\n",
            " [5 6]\n",
            " [7 8]]\n",
            "\n",
            "Concatenated v and w along columns:\n",
            "[[ 9 11]\n",
            " [10 12]]\n"
          ]
        }
      ]
    },
    {
      "cell_type": "markdown",
      "source": [
        "7. Concatenate x(and)v; if you get an error, observe and explain why did you get the error?"
      ],
      "metadata": {
        "id": "HGY1V7ddo9pj"
      }
    },
    {
      "cell_type": "code",
      "source": [
        "import numpy as np\n",
        "\n",
        "x = np.array([[1, 2], [3, 5]])\n",
        "v = np.array([9, 10])\n",
        "\n",
        "try:\n",
        "  concat_x_v = np.concatenate((x, v), axis=1)\n",
        "except ValueError as e:\n",
        "  print(f\"Error: {e}\")"
      ],
      "metadata": {
        "id": "CYGSbqHro7xd",
        "colab": {
          "base_uri": "https://localhost:8080/"
        },
        "outputId": "decc5e38-a27f-401f-ef9a-e942551238cb"
      },
      "execution_count": null,
      "outputs": [
        {
          "output_type": "stream",
          "name": "stdout",
          "text": [
            "Error: all the input arrays must have same number of dimensions, but the array at index 0 has 2 dimension(s) and the array at index 1 has 1 dimension(s)\n"
          ]
        }
      ]
    },
    {
      "cell_type": "markdown",
      "source": [
        " Problem- 4:\n",
        "\n",
        " Matrix Operations:\n",
        "\n",
        " • For the following arrays:\n",
        " A = np.array([[3,4],[7,8]]) and B = np.array([[5,3],[2,1]]);\n",
        " Prove following with Numpy:\n",
        " 1. Prove A.A−1 = I."
      ],
      "metadata": {
        "id": "ckHgvWq_tfRy"
      }
    },
    {
      "cell_type": "code",
      "source": [
        "import numpy as np\n",
        "\n",
        "# Define matrix A\n",
        "A = np.array([[4, 7], [2, 6]])\n",
        "\n",
        "# Calculate the inverse of A\n",
        "A_inv = np.linalg.inv(A)\n",
        "\n",
        "# Multiply A by its inverse\n",
        "result = np.dot(A, A_inv)\n",
        "\n",
        "# Output the result\n",
        "print(\"A.A⁻¹ =\\n\", result)"
      ],
      "metadata": {
        "colab": {
          "base_uri": "https://localhost:8080/"
        },
        "id": "2HjyBP_PsOex",
        "outputId": "490e86c9-02b4-49c9-ee52-5ac6c2334af6"
      },
      "execution_count": null,
      "outputs": [
        {
          "output_type": "stream",
          "name": "stdout",
          "text": [
            "A.A⁻¹ =\n",
            " [[ 1.00000000e+00 -1.11022302e-16]\n",
            " [ 1.11022302e-16  1.00000000e+00]]\n"
          ]
        }
      ]
    },
    {
      "cell_type": "markdown",
      "source": [
        "2.Prove AB=/= BA."
      ],
      "metadata": {
        "id": "USZConagw0i9"
      }
    },
    {
      "cell_type": "code",
      "source": [
        "import numpy as np\n",
        "\n",
        "# Define matrices A and B\n",
        "A = np.array([[3, 4], [7, 8]])\n",
        "B = np.array([[5, 3], [2, 1]])\n",
        "\n",
        "# Calculate AB\n",
        "AB = np.dot(A, B)\n",
        "\n",
        "# Calculate BA\n",
        "BA = np.dot(B, A)\n",
        "\n",
        "# Compare AB and BA\n",
        "print(\"AB =\\n\", AB)\n",
        "print(\"\\nBA =\\n\", BA)\n",
        "\n",
        "if np.array_equal(AB, BA):\n",
        "    print(\"\\nAB = BA\")\n",
        "else:\n",
        "    print(\"\\nAB =/= BA\")"
      ],
      "metadata": {
        "colab": {
          "base_uri": "https://localhost:8080/"
        },
        "id": "dkaXZwFiuBTO",
        "outputId": "9548a22a-2d0a-4a22-f48e-907cc162fc1a"
      },
      "execution_count": null,
      "outputs": [
        {
          "output_type": "stream",
          "name": "stdout",
          "text": [
            "AB =\n",
            " [[23 13]\n",
            " [51 29]]\n",
            "\n",
            "BA =\n",
            " [[36 44]\n",
            " [13 16]]\n",
            "\n",
            "AB =/= BA\n"
          ]
        }
      ]
    },
    {
      "cell_type": "markdown",
      "source": [
        "3. Prove (AB)T = BTAT."
      ],
      "metadata": {
        "id": "VM7HXp7sz9vy"
      }
    },
    {
      "cell_type": "code",
      "source": [
        "import numpy as np\n",
        "# Compute (AB)^T\n",
        "AB_T = np.transpose(np.dot(A, B))\n",
        "\n",
        "# Compute B^T and A^T\n",
        "B_T = np.transpose(B)\n",
        "A_T = np.transpose(A)\n",
        "\n",
        "# Compute B^T A^T\n",
        "B_T_A_T = np.dot(B_T, A_T)\n",
        "\n",
        "# Output the results\n",
        "print(\"Transpose of AB =\\n\", AB_T)\n",
        "print(\"B^T A^T =\\n\", B_T_A_T)"
      ],
      "metadata": {
        "colab": {
          "base_uri": "https://localhost:8080/"
        },
        "id": "Fc7Od7E0zlz0",
        "outputId": "67cea478-afd5-40b8-be0d-4982b56a087e"
      },
      "execution_count": null,
      "outputs": [
        {
          "output_type": "stream",
          "name": "stdout",
          "text": [
            "Transpose of AB =\n",
            " [ 16  20 -15]\n",
            "B^T A^T =\n",
            " [ 16  20 -15]\n"
          ]
        }
      ]
    },
    {
      "cell_type": "markdown",
      "source": [
        " • Solve the following system of Linear equation using Inverse Methods.\n",
        "\n",
        " 2x −3y+z =−1\n",
        "\n",
        " x −y+2z =−3\n",
        "\n",
        " 3x +y−z =9"
      ],
      "metadata": {
        "id": "OS5O1uLz0mnE"
      }
    },
    {
      "cell_type": "code",
      "source": [
        "import numpy as np\n",
        "# Define matrix A (coefficients of the system)\n",
        "A = np.array([[2, -3, 1], [1, -1, 2], [3, 1, -1]])\n",
        "\n",
        "# Define matrix B (constants on the right side)\n",
        "B = np.array([-1, -3, 9])\n",
        "\n",
        "# Calculate the inverse of A\n",
        "A_inv = np.linalg.inv(A)\n",
        "\n",
        "# Solve for X using the inverse of A\n",
        "X = np.dot(A_inv, B)\n",
        "\n",
        "# Output the solution\n",
        "print(\"Solution X =\\n\", X)"
      ],
      "metadata": {
        "colab": {
          "base_uri": "https://localhost:8080/"
        },
        "id": "DNA8SEcK0ji0",
        "outputId": "b60156cb-cf2b-49ce-916a-52038e07827e"
      },
      "execution_count": null,
      "outputs": [
        {
          "output_type": "stream",
          "name": "stdout",
          "text": [
            "Solution X =\n",
            " [ 2.  1. -2.]\n"
          ]
        }
      ]
    },
    {
      "cell_type": "markdown",
      "source": [
        " • Now: solve the above equation using np.linalg.inv function.{Explore more about ”linalg” function\n",
        " of Numpy}"
      ],
      "metadata": {
        "id": "bW3GYpXN3Mul"
      }
    },
    {
      "cell_type": "code",
      "source": [
        "import numpy as np\n",
        "\n",
        "X_direct = np.linalg.solve(A, B)\n",
        "\n",
        "print(\"Solution X using np.linalg.solve =\\n\", X_direct)"
      ],
      "metadata": {
        "colab": {
          "base_uri": "https://localhost:8080/"
        },
        "id": "4eME4jzA1EKU",
        "outputId": "013a7fd5-c274-4a27-c0aa-3b1596aed90e"
      },
      "execution_count": null,
      "outputs": [
        {
          "output_type": "stream",
          "name": "stdout",
          "text": [
            "Solution X using np.linalg.solve =\n",
            " [ 2.  1. -2.]\n"
          ]
        }
      ]
    },
    {
      "cell_type": "markdown",
      "source": [
        "Experiment: How Fast is Numpy?\n",
        "\n",
        " In this exercise, you will compare the performance and implementation of operations using plain Python\n",
        " lists (arrays) and NumPy arrays. Follow the instructions:\n",
        " 1. Element-wise Addition:\n",
        "\n",
        " • Using Python Lists, perform element-wise addition of two lists of size 1,000,000. Measure\n",
        " and Print the time taken for this operation."
      ],
      "metadata": {
        "id": "72vIW5g330wf"
      }
    },
    {
      "cell_type": "code",
      "source": [
        "import numpy as np\n",
        "import time\n",
        "\n",
        "# Create two lists of size 1,000,000\n",
        "list1 = [i for i in range(1, 1000001)]  # List with values from 1 to 1,000,000\n",
        "list2 = [i for i in range(1000001, 2000001)]  # List with values from 1,000,001 to 2,000,000\n",
        "\n",
        "# Start measuring time\n",
        "start_time = time.time()\n",
        "\n",
        "# Perform element-wise addition using a loop\n",
        "result = [list1[i] + list2[i] for i in range(len(list1))]\n",
        "\n",
        "# Measure the time taken\n",
        "end_time = time.time()\n",
        "\n",
        "# Print the time taken for the operation\n",
        "print(f\"Time taken for element-wise addition: {end_time - start_time} seconds\")\n"
      ],
      "metadata": {
        "colab": {
          "base_uri": "https://localhost:8080/"
        },
        "id": "kHHzoUa13uwd",
        "outputId": "d462cc19-d8a9-4b62-e372-cd0502f33f47"
      },
      "execution_count": null,
      "outputs": [
        {
          "output_type": "stream",
          "name": "stdout",
          "text": [
            "Time taken for element-wise addition: 0.17740130424499512 seconds\n"
          ]
        }
      ]
    },
    {
      "cell_type": "markdown",
      "source": [
        "• Using Numpy Arrays, Repeat the calculation and measure and print the time taken for this\n",
        " operation."
      ],
      "metadata": {
        "id": "r_9XeYee4Zca"
      }
    },
    {
      "cell_type": "code",
      "source": [
        "import numpy as np\n",
        "import time\n",
        "\n",
        "# Create two NumPy arrays of size 1,000,000\n",
        "array1 = np.arange(1, 1000001)  # Array with values from 1 to 1,000,000\n",
        "array2 = np.arange(1000001, 2000001)  # Array with values from 1,000,001 to 2,000,000\n",
        "\n",
        "# Start measuring time\n",
        "start_time = time.time()\n",
        "\n",
        "# Perform element-wise addition using NumPy arrays\n",
        "result = array1 + array2  # NumPy allows direct element-wise addition\n",
        "\n",
        "# Measure the time taken\n",
        "end_time = time.time()\n",
        "\n",
        "# Print the time taken for the operation\n",
        "print(f\"Time taken for element-wise addition using NumPy: {end_time - start_time} seconds\")\n"
      ],
      "metadata": {
        "colab": {
          "base_uri": "https://localhost:8080/"
        },
        "id": "j5Up4aCw4VXN",
        "outputId": "2d0b668d-839f-48b9-880b-d75266699441"
      },
      "execution_count": null,
      "outputs": [
        {
          "output_type": "stream",
          "name": "stdout",
          "text": [
            "Time taken for element-wise addition using NumPy: 0.034974098205566406 seconds\n"
          ]
        }
      ]
    },
    {
      "cell_type": "markdown",
      "source": [
        "2. Element-wise Multiplication\n",
        "\n",
        " • Using Python Lists, perform element-wise multiplication of two lists of size 1,000,000. Mea\n",
        "sure and Print the time taken for this operation."
      ],
      "metadata": {
        "id": "SKRCCRZm4ueq"
      }
    },
    {
      "cell_type": "code",
      "source": [
        "import numpy as np\n",
        "import time\n",
        "\n",
        "# Create two lists of size 1,000,000\n",
        "list1 = [i for i in range(1, 1000001)]  # List with values from 1 to 1,000,000\n",
        "list2 = [i for i in range(1000001, 2000001)]  # List with values from 1,000,001 to 2,000,000\n",
        "\n",
        "# Start measuring time\n",
        "start_time = time.time()\n",
        "\n",
        "# Perform element-wise multiplication using a loop\n",
        "result = [list1[i] * list2[i] for i in range(len(list1))]\n",
        "\n",
        "# Measure the time taken\n",
        "end_time = time.time()\n",
        "\n",
        "# Print the time taken for the operation\n",
        "print(f\"Time taken for element-wise multiplication using Python lists: {end_time - start_time} seconds\")\n"
      ],
      "metadata": {
        "colab": {
          "base_uri": "https://localhost:8080/"
        },
        "id": "5qrSVZSR4njx",
        "outputId": "bf2c1902-3fd1-4d49-ef51-e70bb45391ab"
      },
      "execution_count": null,
      "outputs": [
        {
          "output_type": "stream",
          "name": "stdout",
          "text": [
            "Time taken for element-wise multiplication using Python lists: 0.1560657024383545 seconds\n"
          ]
        }
      ]
    },
    {
      "cell_type": "markdown",
      "source": [
        "• Using Numpy Arrays, Repeat the calculation and measure and print the time taken for this\n",
        " operation."
      ],
      "metadata": {
        "id": "Pd2dGyQQ5TDp"
      }
    },
    {
      "cell_type": "code",
      "source": [
        "import numpy as np\n",
        "import time\n",
        "\n",
        "# Create two NumPy arrays of size 1,000,000\n",
        "array1 = np.arange(1, 1000001)  # Array with values from 1 to 1,000,000\n",
        "array2 = np.arange(1000001, 2000001)  # Array with values from 1,000,001 to 2,000,000\n",
        "\n",
        "# Start measuring time\n",
        "start_time = time.time()\n",
        "\n",
        "# Perform element-wise multiplication using NumPy arrays\n",
        "result = array1 * array2  # NumPy allows direct element-wise multiplication\n",
        "\n",
        "# Measure the time taken\n",
        "end_time = time.time()\n",
        "\n",
        "# Print the time taken for the operation\n",
        "print(f\"Time taken for element-wise multiplication using NumPy: {end_time - start_time} seconds\")\n"
      ],
      "metadata": {
        "colab": {
          "base_uri": "https://localhost:8080/"
        },
        "id": "s77psqLs5NxK",
        "outputId": "656c56cf-eb89-4577-f518-182ee9d93bbf"
      },
      "execution_count": null,
      "outputs": [
        {
          "output_type": "stream",
          "name": "stdout",
          "text": [
            "Time taken for element-wise multiplication using NumPy: 0.0049974918365478516 seconds\n"
          ]
        }
      ]
    },
    {
      "cell_type": "markdown",
      "source": [
        "3. Dot Product\n",
        "\n",
        " • Using Python Lists, compute the dot product of two lists of size 1,000,000. Measure and\n",
        " Print the time taken for this operation."
      ],
      "metadata": {
        "id": "NJKedRSl5PAm"
      }
    },
    {
      "cell_type": "code",
      "source": [
        "import numpy as np\n",
        "import time\n",
        "\n",
        "# Create two lists of size 1,000,000\n",
        "list1 = [i for i in range(1, 1000001)]  # List with values from 1 to 1,000,000\n",
        "list2 = [i for i in range(1000001, 2000001)]  # List with values from 1,000,001 to 2,000,000\n",
        "\n",
        "# Start measuring time\n",
        "start_time = time.time()\n",
        "\n",
        "# Perform dot product using a loop (element-wise multiplication and sum)\n",
        "dot_product = sum(list1[i] * list2[i] for i in range(len(list1)))\n",
        "\n",
        "# Measure the time taken\n",
        "end_time = time.time()\n",
        "\n",
        "# Print the time taken for the operation\n",
        "print(f\"Time taken for dot product using Python lists: {end_time - start_time} seconds\")\n"
      ],
      "metadata": {
        "colab": {
          "base_uri": "https://localhost:8080/"
        },
        "id": "YQth9IVn5nJZ",
        "outputId": "d8c616e4-e648-4dbc-b34d-b9fa0e1be8d0"
      },
      "execution_count": null,
      "outputs": [
        {
          "output_type": "stream",
          "name": "stdout",
          "text": [
            "Time taken for dot product using Python lists: 0.16859960556030273 seconds\n"
          ]
        }
      ]
    },
    {
      "cell_type": "markdown",
      "source": [
        "• Using Numpy Arrays, Repeat the calculation and measure and print the time taken for this\n",
        " operation."
      ],
      "metadata": {
        "id": "ihs5Gn10508J"
      }
    },
    {
      "cell_type": "code",
      "source": [
        "import numpy as np\n",
        "import time\n",
        "\n",
        "# Create two NumPy arrays of size 1,000,000\n",
        "array1 = np.arange(1, 1000001)  # Array with values from 1 to 1,000,000\n",
        "array2 = np.arange(1000001, 2000001)  # Array with values from 1,000,001 to 2,000,000\n",
        "\n",
        "# Start measuring time\n",
        "start_time = time.time()\n",
        "\n",
        "# Perform dot product using NumPy arrays\n",
        "dot_product = np.dot(array1, array2)\n",
        "\n",
        "# Measure the time taken\n",
        "end_time = time.time()\n",
        "\n",
        "# Print the time taken for the operation\n",
        "print(f\"Time taken for dot product using NumPy: {end_time - start_time} seconds\")\n"
      ],
      "metadata": {
        "colab": {
          "base_uri": "https://localhost:8080/"
        },
        "id": "AdWvXvbq5qZF",
        "outputId": "c0c934ed-8140-4dd2-e825-2ad452fc620f"
      },
      "execution_count": null,
      "outputs": [
        {
          "output_type": "stream",
          "name": "stdout",
          "text": [
            "Time taken for dot product using NumPy: 0.0022211074829101562 seconds\n"
          ]
        }
      ]
    },
    {
      "cell_type": "markdown",
      "source": [
        "4. Matrix Multiplication\n",
        "\n",
        " • Using Python lists, perform matrix multiplication of two matrices of size 1000x1000. Measure\n",
        " and print the time taken for this operation."
      ],
      "metadata": {
        "id": "x-C9iph458Qe"
      }
    },
    {
      "cell_type": "code",
      "source": [
        "import numpy as np\n",
        "import time\n",
        "\n",
        "# Create two 1000x1000 matrices\n",
        "matrix1 = [[i + j for j in range(1000)] for i in range(1000)]  # 1000x1000 matrix\n",
        "matrix2 = [[i - j for j in range(1000)] for i in range(1000)]  # 1000x1000 matrix\n",
        "\n",
        "# Start measuring time\n",
        "start_time = time.time()\n",
        "\n",
        "# Perform matrix multiplication (result = matrix1 * matrix2)\n",
        "result = [[sum(matrix1[i][k] * matrix2[k][j] for k in range(1000)) for j in range(1000)] for i in range(1000)]\n",
        "\n",
        "# Measure the time taken\n",
        "end_time = time.time()\n",
        "\n",
        "# Print the time taken for the operation\n",
        "print(f\"Time taken for matrix multiplication using Python lists: {end_time - start_time} seconds\")\n"
      ],
      "metadata": {
        "colab": {
          "base_uri": "https://localhost:8080/"
        },
        "id": "NXDtCyWW569E",
        "outputId": "bc80fa22-e627-4e1d-8fe8-a1a45ec310ca"
      },
      "execution_count": null,
      "outputs": [
        {
          "output_type": "stream",
          "name": "stdout",
          "text": [
            "Time taken for matrix multiplication using Python lists: 248.00040817260742 seconds\n"
          ]
        }
      ]
    },
    {
      "cell_type": "markdown",
      "source": [
        "• Using NumPy arrays, perform matrix multiplication of two matrices of size 1000x1000. Mea\n",
        "sure and print the time taken for this operation."
      ],
      "metadata": {
        "id": "hLVbytpr6J6W"
      }
    },
    {
      "cell_type": "code",
      "source": [
        "import numpy as np\n",
        "import time\n",
        "\n",
        "# Create two 1000x1000 matrices with random values\n",
        "matrix1 = np.random.rand(1000, 1000)  # 1000x1000 matrix with random values\n",
        "matrix2 = np.random.rand(1000, 1000)  # 1000x1000 matrix with random values\n",
        "\n",
        "# Start measuring time\n",
        "start_time = time.time()\n",
        "\n",
        "# Perform matrix multiplication using NumPy\n",
        "result = np.dot(matrix1, matrix2)  # You can also use matrix1 @ matrix2\n",
        "\n",
        "# Measure the time taken\n",
        "end_time = time.time()\n",
        "\n",
        "# Print the time taken for the operation\n",
        "print(f\"Time taken for matrix multiplication using NumPy: {end_time - start_time} seconds\")\n"
      ],
      "metadata": {
        "colab": {
          "base_uri": "https://localhost:8080/"
        },
        "id": "lp1zbPzU6IuD",
        "outputId": "f3fb772c-1190-489b-d097-81d0a1e8f3ff"
      },
      "execution_count": null,
      "outputs": [
        {
          "output_type": "stream",
          "name": "stdout",
          "text": [
            "Time taken for matrix multiplication using NumPy: 0.060072898864746094 seconds\n"
          ]
        }
      ]
    }
  ]
}